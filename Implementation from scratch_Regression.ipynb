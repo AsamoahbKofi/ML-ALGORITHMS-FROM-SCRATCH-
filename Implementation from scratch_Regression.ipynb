{
 "cells": [
  {
   "cell_type": "code",
   "execution_count": 7,
   "metadata": {},
   "outputs": [],
   "source": [
    "import pandas as pd\n",
    "import numpy as np"
   ]
  },
  {
   "cell_type": "code",
   "execution_count": 8,
   "metadata": {},
   "outputs": [
    {
     "data": {
      "text/html": [
       "<div>\n",
       "<style scoped>\n",
       "    .dataframe tbody tr th:only-of-type {\n",
       "        vertical-align: middle;\n",
       "    }\n",
       "\n",
       "    .dataframe tbody tr th {\n",
       "        vertical-align: top;\n",
       "    }\n",
       "\n",
       "    .dataframe thead th {\n",
       "        text-align: right;\n",
       "    }\n",
       "</style>\n",
       "<table border=\"1\" class=\"dataframe\">\n",
       "  <thead>\n",
       "    <tr style=\"text-align: right;\">\n",
       "      <th></th>\n",
       "      <th>Date/Time</th>\n",
       "      <th>LV ActivePower (kW)</th>\n",
       "      <th>Wind Speed (m/s)</th>\n",
       "      <th>Theoretical_Power_Curve (KWh)</th>\n",
       "      <th>Wind Direction (°)</th>\n",
       "      <th>Hour</th>\n",
       "      <th>Day</th>\n",
       "      <th>Month</th>\n",
       "      <th>Year</th>\n",
       "      <th>Day Name</th>\n",
       "      <th>...</th>\n",
       "      <th>Power_Difference</th>\n",
       "      <th>Wind_Speed_Direction</th>\n",
       "      <th>Power_Efficiency</th>\n",
       "      <th>Above_CutIn</th>\n",
       "      <th>Above_RatedSpeed</th>\n",
       "      <th>Power_Segment</th>\n",
       "      <th>Season</th>\n",
       "      <th>Cumulative_Energy</th>\n",
       "      <th>Cumulative_Wind_Speed</th>\n",
       "      <th>Cumulative_Wind_Direction</th>\n",
       "    </tr>\n",
       "  </thead>\n",
       "  <tbody>\n",
       "    <tr>\n",
       "      <th>0</th>\n",
       "      <td>2018-01-01 00:00:00</td>\n",
       "      <td>380.047791</td>\n",
       "      <td>5.311336</td>\n",
       "      <td>416.328908</td>\n",
       "      <td>259.994904</td>\n",
       "      <td>0</td>\n",
       "      <td>1</td>\n",
       "      <td>1</td>\n",
       "      <td>2018</td>\n",
       "      <td>Monday</td>\n",
       "      <td>...</td>\n",
       "      <td>36.281117</td>\n",
       "      <td>1380.920302</td>\n",
       "      <td>91.285468</td>\n",
       "      <td>True</td>\n",
       "      <td>False</td>\n",
       "      <td>Optimal Range</td>\n",
       "      <td>Winter</td>\n",
       "      <td>380.047791</td>\n",
       "      <td>5.311336</td>\n",
       "      <td>259.994904</td>\n",
       "    </tr>\n",
       "    <tr>\n",
       "      <th>1</th>\n",
       "      <td>2018-01-01 00:10:00</td>\n",
       "      <td>453.769196</td>\n",
       "      <td>5.672167</td>\n",
       "      <td>519.917511</td>\n",
       "      <td>268.641113</td>\n",
       "      <td>0</td>\n",
       "      <td>1</td>\n",
       "      <td>1</td>\n",
       "      <td>2018</td>\n",
       "      <td>Monday</td>\n",
       "      <td>...</td>\n",
       "      <td>66.148316</td>\n",
       "      <td>1523.777210</td>\n",
       "      <td>87.277152</td>\n",
       "      <td>True</td>\n",
       "      <td>False</td>\n",
       "      <td>Optimal Range</td>\n",
       "      <td>Winter</td>\n",
       "      <td>833.816986</td>\n",
       "      <td>10.983503</td>\n",
       "      <td>528.636017</td>\n",
       "    </tr>\n",
       "  </tbody>\n",
       "</table>\n",
       "<p>2 rows × 30 columns</p>\n",
       "</div>"
      ],
      "text/plain": [
       "             Date/Time  LV ActivePower (kW)  Wind Speed (m/s)  \\\n",
       "0  2018-01-01 00:00:00           380.047791          5.311336   \n",
       "1  2018-01-01 00:10:00           453.769196          5.672167   \n",
       "\n",
       "   Theoretical_Power_Curve (KWh)  Wind Direction (°)  Hour  Day  Month  Year  \\\n",
       "0                     416.328908          259.994904     0    1      1  2018   \n",
       "1                     519.917511          268.641113     0    1      1  2018   \n",
       "\n",
       "  Day Name  ...  Power_Difference  Wind_Speed_Direction  Power_Efficiency  \\\n",
       "0   Monday  ...         36.281117           1380.920302         91.285468   \n",
       "1   Monday  ...         66.148316           1523.777210         87.277152   \n",
       "\n",
       "   Above_CutIn  Above_RatedSpeed  Power_Segment  Season  Cumulative_Energy  \\\n",
       "0         True             False  Optimal Range  Winter         380.047791   \n",
       "1         True             False  Optimal Range  Winter         833.816986   \n",
       "\n",
       "   Cumulative_Wind_Speed  Cumulative_Wind_Direction  \n",
       "0               5.311336                 259.994904  \n",
       "1              10.983503                 528.636017  \n",
       "\n",
       "[2 rows x 30 columns]"
      ]
     },
     "execution_count": 8,
     "metadata": {},
     "output_type": "execute_result"
    }
   ],
   "source": [
    "df=pd.read_csv(\"final_data.csv\")\n",
    "df.head(2)"
   ]
  },
  {
   "cell_type": "code",
   "execution_count": 9,
   "metadata": {},
   "outputs": [
    {
     "data": {
      "text/html": [
       "<div>\n",
       "<style scoped>\n",
       "    .dataframe tbody tr th:only-of-type {\n",
       "        vertical-align: middle;\n",
       "    }\n",
       "\n",
       "    .dataframe tbody tr th {\n",
       "        vertical-align: top;\n",
       "    }\n",
       "\n",
       "    .dataframe thead th {\n",
       "        text-align: right;\n",
       "    }\n",
       "</style>\n",
       "<table border=\"1\" class=\"dataframe\">\n",
       "  <thead>\n",
       "    <tr style=\"text-align: right;\">\n",
       "      <th></th>\n",
       "      <th>LV ActivePower (kW)</th>\n",
       "      <th>Wind Speed (m/s)</th>\n",
       "      <th>Theoretical_Power_Curve (KWh)</th>\n",
       "      <th>Wind Direction (°)</th>\n",
       "      <th>Hour</th>\n",
       "      <th>Day</th>\n",
       "      <th>Month</th>\n",
       "      <th>Year</th>\n",
       "      <th>Day Name</th>\n",
       "      <th>Prev_Wind_Speed</th>\n",
       "      <th>...</th>\n",
       "      <th>Power_Difference</th>\n",
       "      <th>Wind_Speed_Direction</th>\n",
       "      <th>Power_Efficiency</th>\n",
       "      <th>Above_CutIn</th>\n",
       "      <th>Above_RatedSpeed</th>\n",
       "      <th>Power_Segment</th>\n",
       "      <th>Season</th>\n",
       "      <th>Cumulative_Energy</th>\n",
       "      <th>Cumulative_Wind_Speed</th>\n",
       "      <th>Cumulative_Wind_Direction</th>\n",
       "    </tr>\n",
       "  </thead>\n",
       "  <tbody>\n",
       "    <tr>\n",
       "      <th>2</th>\n",
       "      <td>306.376587</td>\n",
       "      <td>5.216037</td>\n",
       "      <td>390.900016</td>\n",
       "      <td>272.564789</td>\n",
       "      <td>0</td>\n",
       "      <td>1</td>\n",
       "      <td>1</td>\n",
       "      <td>2018</td>\n",
       "      <td>1</td>\n",
       "      <td>5.672167</td>\n",
       "      <td>...</td>\n",
       "      <td>84.523429</td>\n",
       "      <td>1421.707968</td>\n",
       "      <td>78.377226</td>\n",
       "      <td>1</td>\n",
       "      <td>0</td>\n",
       "      <td>3</td>\n",
       "      <td>3</td>\n",
       "      <td>1140.193573</td>\n",
       "      <td>16.199540</td>\n",
       "      <td>801.200806</td>\n",
       "    </tr>\n",
       "    <tr>\n",
       "      <th>3</th>\n",
       "      <td>419.645905</td>\n",
       "      <td>5.659674</td>\n",
       "      <td>516.127569</td>\n",
       "      <td>271.258087</td>\n",
       "      <td>0</td>\n",
       "      <td>1</td>\n",
       "      <td>1</td>\n",
       "      <td>2018</td>\n",
       "      <td>1</td>\n",
       "      <td>5.216037</td>\n",
       "      <td>...</td>\n",
       "      <td>96.481664</td>\n",
       "      <td>1535.232389</td>\n",
       "      <td>81.306625</td>\n",
       "      <td>1</td>\n",
       "      <td>0</td>\n",
       "      <td>3</td>\n",
       "      <td>3</td>\n",
       "      <td>1559.839478</td>\n",
       "      <td>21.859214</td>\n",
       "      <td>1072.458893</td>\n",
       "    </tr>\n",
       "    <tr>\n",
       "      <th>4</th>\n",
       "      <td>380.650696</td>\n",
       "      <td>5.577941</td>\n",
       "      <td>491.702972</td>\n",
       "      <td>265.674286</td>\n",
       "      <td>0</td>\n",
       "      <td>1</td>\n",
       "      <td>1</td>\n",
       "      <td>2018</td>\n",
       "      <td>1</td>\n",
       "      <td>5.659674</td>\n",
       "      <td>...</td>\n",
       "      <td>111.052276</td>\n",
       "      <td>1481.915476</td>\n",
       "      <td>77.414764</td>\n",
       "      <td>1</td>\n",
       "      <td>0</td>\n",
       "      <td>3</td>\n",
       "      <td>3</td>\n",
       "      <td>1940.490173</td>\n",
       "      <td>27.437155</td>\n",
       "      <td>1338.133179</td>\n",
       "    </tr>\n",
       "    <tr>\n",
       "      <th>5</th>\n",
       "      <td>402.391998</td>\n",
       "      <td>5.604052</td>\n",
       "      <td>499.436385</td>\n",
       "      <td>264.578613</td>\n",
       "      <td>0</td>\n",
       "      <td>1</td>\n",
       "      <td>1</td>\n",
       "      <td>2018</td>\n",
       "      <td>1</td>\n",
       "      <td>5.577941</td>\n",
       "      <td>...</td>\n",
       "      <td>97.044387</td>\n",
       "      <td>1482.712325</td>\n",
       "      <td>80.569220</td>\n",
       "      <td>1</td>\n",
       "      <td>0</td>\n",
       "      <td>3</td>\n",
       "      <td>3</td>\n",
       "      <td>2342.882172</td>\n",
       "      <td>33.041207</td>\n",
       "      <td>1602.711792</td>\n",
       "    </tr>\n",
       "    <tr>\n",
       "      <th>6</th>\n",
       "      <td>447.605713</td>\n",
       "      <td>5.793008</td>\n",
       "      <td>557.372363</td>\n",
       "      <td>266.163605</td>\n",
       "      <td>1</td>\n",
       "      <td>1</td>\n",
       "      <td>1</td>\n",
       "      <td>2018</td>\n",
       "      <td>1</td>\n",
       "      <td>5.604052</td>\n",
       "      <td>...</td>\n",
       "      <td>109.766650</td>\n",
       "      <td>1541.887852</td>\n",
       "      <td>80.306406</td>\n",
       "      <td>1</td>\n",
       "      <td>0</td>\n",
       "      <td>3</td>\n",
       "      <td>3</td>\n",
       "      <td>2790.487885</td>\n",
       "      <td>38.834215</td>\n",
       "      <td>1868.875397</td>\n",
       "    </tr>\n",
       "  </tbody>\n",
       "</table>\n",
       "<p>5 rows × 29 columns</p>\n",
       "</div>"
      ],
      "text/plain": [
       "   LV ActivePower (kW)  Wind Speed (m/s)  Theoretical_Power_Curve (KWh)  \\\n",
       "2           306.376587          5.216037                     390.900016   \n",
       "3           419.645905          5.659674                     516.127569   \n",
       "4           380.650696          5.577941                     491.702972   \n",
       "5           402.391998          5.604052                     499.436385   \n",
       "6           447.605713          5.793008                     557.372363   \n",
       "\n",
       "   Wind Direction (°)  Hour  Day  Month  Year  Day Name  Prev_Wind_Speed  ...  \\\n",
       "2          272.564789     0    1      1  2018         1         5.672167  ...   \n",
       "3          271.258087     0    1      1  2018         1         5.216037  ...   \n",
       "4          265.674286     0    1      1  2018         1         5.659674  ...   \n",
       "5          264.578613     0    1      1  2018         1         5.577941  ...   \n",
       "6          266.163605     1    1      1  2018         1         5.604052  ...   \n",
       "\n",
       "   Power_Difference  Wind_Speed_Direction  Power_Efficiency  Above_CutIn  \\\n",
       "2         84.523429           1421.707968         78.377226            1   \n",
       "3         96.481664           1535.232389         81.306625            1   \n",
       "4        111.052276           1481.915476         77.414764            1   \n",
       "5         97.044387           1482.712325         80.569220            1   \n",
       "6        109.766650           1541.887852         80.306406            1   \n",
       "\n",
       "   Above_RatedSpeed  Power_Segment  Season  Cumulative_Energy  \\\n",
       "2                 0              3       3        1140.193573   \n",
       "3                 0              3       3        1559.839478   \n",
       "4                 0              3       3        1940.490173   \n",
       "5                 0              3       3        2342.882172   \n",
       "6                 0              3       3        2790.487885   \n",
       "\n",
       "   Cumulative_Wind_Speed  Cumulative_Wind_Direction  \n",
       "2              16.199540                 801.200806  \n",
       "3              21.859214                1072.458893  \n",
       "4              27.437155                1338.133179  \n",
       "5              33.041207                1602.711792  \n",
       "6              38.834215                1868.875397  \n",
       "\n",
       "[5 rows x 29 columns]"
      ]
     },
     "execution_count": 9,
     "metadata": {},
     "output_type": "execute_result"
    }
   ],
   "source": [
    "df.replace([np.inf, -np.inf], np.nan, inplace=True)\n",
    "df.dropna(inplace=True)\n",
    "alphabetic_columns=[\"Day Name\",\"Season\",\"Above_CutIn\",\n",
    "                    \"Above_RatedSpeed\",\"Power_Segment\",\"Season\"]\n",
    "df.drop(\"Date/Time\",axis=1,inplace=True)\n",
    "\n",
    "from sklearn.preprocessing import LabelEncoder\n",
    "\n",
    "Lable=LabelEncoder()\n",
    "for column in alphabetic_columns:\n",
    "    df[column]=Lable.fit_transform(df[column])\n",
    "df.head()"
   ]
  },
  {
   "cell_type": "code",
   "execution_count": 10,
   "metadata": {},
   "outputs": [],
   "source": [
    "x=df.drop(\"LV ActivePower (kW)\",axis=1)\n",
    "y=df[\"LV ActivePower (kW)\"]"
   ]
  },
  {
   "cell_type": "code",
   "execution_count": 11,
   "metadata": {},
   "outputs": [
    {
     "name": "stdout",
     "output_type": "stream",
     "text": [
      "x_train: [[5.21603680e+00 3.90900016e+02 2.72564789e+02 ... 1.14019357e+03\n",
      "  1.61995397e+01 8.01200806e+02]\n",
      " [5.65967417e+00 5.16127569e+02 2.71258087e+02 ... 1.55983948e+03\n",
      "  2.18592138e+01 1.07245889e+03]\n",
      " [5.57794094e+00 4.91702972e+02 2.65674286e+02 ... 1.94049017e+03\n",
      "  2.74371548e+01 1.33813318e+03]\n",
      " ...\n",
      " [5.81664896e+00 5.64871330e+02 4.18349419e+01 ... 2.66642129e+07\n",
      "  1.59752344e+05 3.06843116e+06]\n",
      " [6.07993507e+00 6.51286164e+02 4.40464096e+01 ... 2.66647511e+07\n",
      "  1.59758424e+05 3.06847521e+06]\n",
      " [5.63577890e+00 5.08920544e+02 4.62091293e+01 ... 2.66651459e+07\n",
      "  1.59764060e+05 3.06852142e+06]]\n",
      "x_test: [[5.38231707e+00 4.35774700e+02 4.40036697e+01 ... 2.66654874e+07\n",
      "  1.59769442e+05 3.06856542e+06]\n",
      " [5.39016104e+00 4.37950685e+02 4.60718994e+01 ... 2.66658209e+07\n",
      "  1.59774832e+05 3.06861149e+06]\n",
      " [4.49369097e+00 2.20665484e+02 5.26487198e+01 ... 2.66659969e+07\n",
      "  1.59779326e+05 3.06866414e+06]\n",
      " ...\n",
      " [8.43535805e+00 1.78828476e+03 8.47425003e+01 ... 6.60719531e+07\n",
      "  3.81883926e+05 6.24976576e+06]\n",
      " [9.42136574e+00 2.41838250e+03 8.42979126e+01 ... 6.60744688e+07\n",
      "  3.81893347e+05 6.24985006e+06]\n",
      " [9.97933197e+00 2.77918410e+03 8.22746201e+01 ... 6.60772893e+07\n",
      "  3.81903326e+05 6.24993233e+06]]\n",
      "y_train: [306.37658691 419.64590454 380.6506958  ... 481.32299805 538.25469971\n",
      " 394.78961182]\n",
      "y_test: [ 341.50689697  333.45568848  175.98449707 ... 2201.10693359 2515.6940918\n",
      " 2820.46606445]\n"
     ]
    }
   ],
   "source": [
    "# main.py\n",
    "from machine_learning_REGRESSION import MachineLearninPrepocessing\n",
    "ml=MachineLearninPrepocessing(x)\n",
    "x_train,x_test,y_train,y_test=ml.train_test_split(x,y,0.6)\n",
    "print(\"x_train:\", x_train)\n",
    "print(\"x_test:\", x_test)\n",
    "print(\"y_train:\", y_train)\n",
    "print(\"y_test:\", y_test)"
   ]
  },
  {
   "cell_type": "markdown",
   "metadata": {},
   "source": [
    "# Normalization"
   ]
  },
  {
   "cell_type": "code",
   "execution_count": 12,
   "metadata": {},
   "outputs": [],
   "source": [
    "x_train=ml.scaling_features(x_train)\n",
    "x_test=ml.scaling_features(x_test)"
   ]
  },
  {
   "cell_type": "code",
   "execution_count": 13,
   "metadata": {},
   "outputs": [
    {
     "name": "stdout",
     "output_type": "stream",
     "text": [
      "Scaled x_train: [[-0.18599373 -0.18586965 -0.18590772 ... -0.18562859 -0.1859902\n",
      "  -0.18573765]\n",
      " [-0.18599359 -0.18582936 -0.18590814 ... -0.18549358 -0.18598838\n",
      "  -0.18565038]\n",
      " [-0.18599361 -0.18583722 -0.18590994 ... -0.18537111 -0.18598658\n",
      "  -0.1855649 ]\n",
      " ...\n",
      " [-0.18599354 -0.18581368 -0.18598195 ...  8.39241481 -0.13459989\n",
      "   0.80118022]\n",
      " [-0.18599345 -0.18578588 -0.18598124 ...  8.39258798 -0.13459793\n",
      "   0.80119439]\n",
      " [-0.1859936  -0.18583168 -0.18598054 ...  8.39271499 -0.13459612\n",
      "   0.80120926]]\n"
     ]
    }
   ],
   "source": [
    "print(\"Scaled x_train:\", x_train)\n"
   ]
  },
  {
   "cell_type": "code",
   "execution_count": 14,
   "metadata": {},
   "outputs": [
    {
     "data": {
      "text/plain": [
       "4248722.327766041"
      ]
     },
     "execution_count": 14,
     "metadata": {},
     "output_type": "execute_result"
    }
   ],
   "source": [
    "cost=ml.cost_function(x_train,y_train)\n",
    "cost"
   ]
  },
  {
   "cell_type": "code",
   "execution_count": 15,
   "metadata": {},
   "outputs": [
    {
     "name": "stdout",
     "output_type": "stream",
     "text": [
      "Gradient with respect to weight= [  286.27366892   284.83431632   286.20215866   286.27387722\n",
      "   286.27250904   286.27836736   285.2804578    286.27826103\n",
      "   286.27369303   286.20222171   284.91666837   286.27369353\n",
      "   286.27946212   286.20692074   284.91684323   286.27973825\n",
      "   286.27993101   286.27926926   286.20348041   285.28235228\n",
      "   286.23279312   286.27924334   286.2794998    286.27873086\n",
      "   286.27882993 -6303.30318709   247.77381243  -424.61137109]\n",
      "\n",
      "\n",
      "Gradient with respect to weight= -1539.1763706574911\n"
     ]
    }
   ],
   "source": [
    "graw,grab=ml.compute_gradient(x_train,y_train)\n",
    "print(\"Gradient with respect to weight=\",graw)\n",
    "print(\"\\n\")\n",
    "print(\"Gradient with respect to weight=\",grab)"
   ]
  },
  {
   "cell_type": "code",
   "execution_count": 16,
   "metadata": {},
   "outputs": [
    {
     "name": "stdout",
     "output_type": "stream",
     "text": [
      "Iteration 0, cost: 3486466.3702243813\n",
      "Cost function = 4248722.327766041\n",
      "Learned weights: [-44.20949234 -43.44031037 -43.5800279  -44.39129536 -43.98462204\n",
      " -44.38998724 -43.37346647 -44.13729868 -44.20294768 -43.92013971\n",
      " -43.69809809 -43.81548144 -44.35038662 -43.51136361 -43.95556569\n",
      " -43.51145074 -43.62878497 -44.24982578 -44.30220639 -43.68325436\n",
      " -44.04241399 -44.04620578 -44.22266505 -44.42729363 -43.92905357\n",
      " 165.9020037  -43.12976179 -25.92118676]\n",
      "Learned bias: 255.96352054096704\n"
     ]
    }
   ],
   "source": [
    "learning_rate = 0.01\n",
    "epochs = 50\n",
    "costs,w,b = ml.gradient_descent(learning_rate, epochs,x_train, y_train)\n",
    "print(\"Cost function =\",cost)\n",
    "print(\"Learned weights:\",w)\n",
    "print(\"Learned bias:\", b)"
   ]
  },
  {
   "cell_type": "code",
   "execution_count": 17,
   "metadata": {},
   "outputs": [
    {
     "name": "stdout",
     "output_type": "stream",
     "text": [
      "Predictions on x_test: [ 962.38469906  962.39176823  962.3964615  ... 1705.82058174 1705.86585023\n",
      " 1705.91493124]\n"
     ]
    }
   ],
   "source": [
    "predictions = ml.predict(x_test)\n",
    "print(\"Predictions on x_test:\", predictions)"
   ]
  },
  {
   "cell_type": "code",
   "execution_count": 18,
   "metadata": {},
   "outputs": [
    {
     "name": "stdout",
     "output_type": "stream",
     "text": [
      "r2 score= -0.01640745388059983\n"
     ]
    }
   ],
   "source": [
    "r2=ml.r2_score(y_test,predictions)\n",
    "print(\"r2 score=\",r2)"
   ]
  }
 ],
 "metadata": {
  "kernelspec": {
   "display_name": "Python 3",
   "language": "python",
   "name": "python3"
  },
  "language_info": {
   "codemirror_mode": {
    "name": "ipython",
    "version": 3
   },
   "file_extension": ".py",
   "mimetype": "text/x-python",
   "name": "python",
   "nbconvert_exporter": "python",
   "pygments_lexer": "ipython3",
   "version": "3.12.2"
  }
 },
 "nbformat": 4,
 "nbformat_minor": 2
}
